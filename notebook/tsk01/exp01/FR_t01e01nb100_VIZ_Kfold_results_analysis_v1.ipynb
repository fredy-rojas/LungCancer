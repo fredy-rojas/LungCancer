{
 "cells": [
  {
   "cell_type": "code",
   "execution_count": null,
   "id": "698aa87b-27da-485e-84c8-c434768251dc",
   "metadata": {},
   "outputs": [],
   "source": []
  },
  {
   "cell_type": "code",
   "execution_count": null,
   "id": "de053daa-0a3f-4e93-96ab-e1279a220982",
   "metadata": {},
   "outputs": [],
   "source": []
  },
  {
   "cell_type": "code",
   "execution_count": null,
   "id": "cdd14f71-5650-432a-a83b-17405079636a",
   "metadata": {},
   "outputs": [],
   "source": []
  },
  {
   "cell_type": "code",
   "execution_count": null,
   "id": "ceb1b31b-fd39-4ccf-a295-165bdb41d435",
   "metadata": {},
   "outputs": [],
   "source": []
  },
  {
   "cell_type": "markdown",
   "id": "df20b4e6-1d2e-4a46-9cd0-3337e9b450b3",
   "metadata": {},
   "source": [
    "## Import libraries"
   ]
  },
  {
   "cell_type": "code",
   "execution_count": null,
   "id": "de99a210-2bf5-4129-a802-80e02dcd64c9",
   "metadata": {},
   "outputs": [],
   "source": [
    "import os\n",
    "import glob\n",
    "import pickle\n",
    "from pathlib import Path, PureWindowsPath\n",
    "\n",
    "import numpy as np\n",
    "import pandas as pd \n",
    "\n",
    "import matplotlib.pyplot as plt \n",
    "import seaborn as sns "
   ]
  },
  {
   "cell_type": "code",
   "execution_count": null,
   "id": "d6e2cae0-33ee-4870-80cb-b17bf9f9d23c",
   "metadata": {},
   "outputs": [],
   "source": []
  },
  {
   "cell_type": "markdown",
   "id": "bd4063c6-3252-4a8f-86e3-7c84ba4ff3c6",
   "metadata": {},
   "source": [
    "## Config"
   ]
  },
  {
   "cell_type": "code",
   "execution_count": null,
   "id": "a7ce305d-f713-4c1e-a202-f7eb0c45fdea",
   "metadata": {},
   "outputs": [],
   "source": [
    "class cfg:\n",
    "\n",
    "    THIS_NOTEBOOK_ID: \"FR_t01e01nb04v1\"\n",
    "\n",
    "    #=================================================\n",
    "    ROOT_TRAINING_RSLTS = os.path.join('..', '..', '..',\n",
    "                                       \"results\",\n",
    "                                       \"exp_track\",\n",
    "                                      )"
   ]
  },
  {
   "cell_type": "code",
   "execution_count": null,
   "id": "4d0b490c-19fe-40a7-a3fe-c1c18c2ab1e8",
   "metadata": {},
   "outputs": [],
   "source": []
  },
  {
   "cell_type": "markdown",
   "id": "e03d6c6d-03ea-4b06-b2ea-d422d18628ef",
   "metadata": {},
   "source": [
    "## Utility functions"
   ]
  },
  {
   "cell_type": "markdown",
   "id": "ab4ef8d2-20c1-4672-83b9-e811f7ad8a9c",
   "metadata": {},
   "source": [
    "### flatten_dict()"
   ]
  },
  {
   "cell_type": "code",
   "execution_count": null,
   "id": "b034df64-48f8-43f8-a535-0a14de42b6f5",
   "metadata": {},
   "outputs": [],
   "source": [
    "def flatten_dict(d, parent_key='', sep='_'):\n",
    "    \"\"\"\n",
    "    Description\n",
    "    -----------\n",
    "        Recursive, inspect inner dict and extract values\n",
    "\n",
    "    Return: \n",
    "    ------\n",
    "        flat_dictionary: It can be use as one row of a dataframe.\n",
    "    \"\"\"\n",
    "    \n",
    "    items = []\n",
    "    for k, v in d.items():\n",
    "        new_key = f\"{parent_key}{sep}{k}\" if parent_key else k\n",
    "\n",
    "        if isinstance(v, dict):\n",
    "            items.extend(flatten_dict(v, new_key, sep=sep).items())\n",
    "        else:\n",
    "            items.append((new_key, v))\n",
    "\n",
    "    return dict(items)"
   ]
  },
  {
   "cell_type": "code",
   "execution_count": null,
   "id": "0b4346d9-7bad-4ac5-b1f3-ddbdeee730ef",
   "metadata": {},
   "outputs": [],
   "source": []
  },
  {
   "cell_type": "markdown",
   "id": "046fb050-8949-4b63-b163-859c5429911c",
   "metadata": {},
   "source": [
    "### perf_last_epoch_metric_distr_info()"
   ]
  },
  {
   "cell_type": "code",
   "execution_count": null,
   "id": "8c0e6855-4fd5-4a51-b3d4-b842cfd70670",
   "metadata": {},
   "outputs": [],
   "source": [
    "def perf_last_epoch_metric_distr_info(d_meta, \n",
    "                                      arch_name_wild_card=\"resnet\", \n",
    "                                      pipe_names=['pipe001']): \n",
    "    \n",
    "    \"\"\"\n",
    "    Description:\n",
    "    -----------\n",
    "        Selecting and extracting performances on test for each fold, and then calculating\n",
    "            distribution information \"'mean', 'std', 'min', '25%', '50%', '75%', 'max'\" \n",
    "            \n",
    "    Parameters:\n",
    "    -----------\n",
    "        arch_name_wild_card: to select the architecture of interest\n",
    "        pipe_names: list of preprocessing image pipeline id of interest\n",
    "\n",
    "    Return: \n",
    "        d_m: dataframe organize to show for each training track id, the test performances across folds.\n",
    "\n",
    "    \"\"\"\n",
    "    \n",
    "    c1 = d_meta['architecture__arch_ID'].str.lower().str.contains(arch_name_wild_card)\n",
    "    c2 = d_meta['prepro_pipe__pipe_name'].isin(pipe_names)\n",
    "    \n",
    "    d = d_meta[c1&c2].reset_index(drop=True)\n",
    "    d\n",
    "    \n",
    "    \n",
    "    #==========================================\n",
    "    # Extracting performances, fold, leakage or not leakage\n",
    "    track_slct_info = []\n",
    "    for r, data in d.iterrows():\n",
    "    \n",
    "        #- - - - - - - - - - - - - - - - - \n",
    "        # Extracting information related to performance per epoch during training process. \n",
    "        fpath = data['path_perf_dct']\n",
    "        with open(fpath, 'rb') as f:\n",
    "            perf_dct = pickle.load(f)\n",
    "            \"\"\"\n",
    "            perf_dct keys: \n",
    "                ['prcsn_trn', 'f1score_trn', 'rec_trn', 'ba_trn', 'acc_trn', 'loss_trn', \n",
    "                 'prcsn_tst', 'f1score_tst', 'rec_tst', 'ba_tst', 'acc_tst', 'loss_tst', \n",
    "                 'lr', 'track_train_id', 'fold_id', 'arch_id']\n",
    "    \n",
    "            \"\"\"\n",
    "            \n",
    "        \n",
    "    \n",
    "        #- - - - - - - - - - - - - - - - - \n",
    "        track_slct_info.append([\n",
    "            data['track_train_id'], \n",
    "            data['split_strategy__split_strategy_id'],\n",
    "            data['training_step__training_strategy_id'],\n",
    "            data['architecture__arch_ID'],\n",
    "            data['fold_id'], \n",
    "            data['path_perf_dct'], \n",
    "            data['prepro_pipe__pipe_name'],\n",
    "            data['split_strategy__shuffle_instances'], #True:leakage, False: 'no_leakage'\n",
    "            data[\"training_step__epochs\"],\n",
    "            perf_dct['acc_tst'][-1], # last epoch performance\n",
    "            perf_dct['ba_tst'][-1], # last epoch performance\n",
    "            perf_dct['f1score_tst'][-1], # last epoch performance\n",
    "            perf_dct['prcsn_tst'][-1], # last epoch performance\n",
    "            perf_dct['rec_tst'][-1], # last epoch performance\n",
    "        ])\n",
    "    \n",
    "        #_____________________________________\n",
    "        # break\n",
    "    #_________________________________________\n",
    "    \n",
    "    \n",
    "    #===========================================================\n",
    "    # Extracting test performance of last epoch of each fold. \n",
    "    cols = ['track_train_id', 'split_id', 'trn_strtgy_id', 'arch_name', 'fold_id', 'path_perf_dct', 'prepro_pipe__pipe_name', \n",
    "            'leakage', 'training_step__epochs', 'acc_tst', 'ba_tst', 'f1score_tst', 'prcsn_tst', 'rec_tst']\n",
    "    d_m = pd.DataFrame(track_slct_info, columns=cols)\n",
    "    d_m\n",
    "    \n",
    "    #===========================================================\n",
    "    # Extracting summary (across fold) for same Track_ID\n",
    "    metrics_dist_info = []\n",
    "    for gr, data in d_m.groupby(['track_train_id', 'prepro_pipe__pipe_name', 'arch_name', 'split_id', 'trn_strtgy_id','leakage', 'training_step__epochs']): \n",
    "        #___________________________________________________\n",
    "        # Calculating test metrics performance distribution info (last training epoch)\n",
    "        cols = ['acc_tst', 'ba_tst', 'f1score_tst', 'prcsn_tst', 'rec_tst']\n",
    "        d = data[cols].describe().T.reset_index().rename(columns={'index':'metrics'})\n",
    "        \n",
    "        #___________________________________________________\n",
    "        # Adding meta info\n",
    "        d[['track_train_id', 'pre_pipe_id', 'arch_name', 'split_id', 'trn_strtgy_id','leakage', 'n_epochs']] = gr\n",
    "        \n",
    "        #___________________________________________________\n",
    "        # Reorganization of table\n",
    "        cols = ['track_train_id', 'pre_pipe_id', 'arch_name', 'split_id', 'trn_strtgy_id','leakage', 'n_epochs', \n",
    "                'metrics', 'count', 'mean', 'std', 'min', '25%', '50%', '75%', 'max',]\n",
    "        d = d[cols]\n",
    "        d = d.rename(columns={'count':'fold_cnt'})\n",
    "        \n",
    "        #___________________________________________________\n",
    "        # Store\n",
    "        metrics_dist_info.append(d)\n",
    "    \n",
    "        #___________________________________________________\n",
    "        # break\n",
    "    #_______________________________________________________\n",
    "    d_m = pd.concat(metrics_dist_info,  ignore_index=True)\n",
    "    d_m = d_m.sort_values(by=['pre_pipe_id', 'arch_name', 'trn_strtgy_id',\"track_train_id\",'split_id', \"leakage\",], ignore_index=True)\n",
    "\n",
    "    return d_m"
   ]
  },
  {
   "cell_type": "code",
   "execution_count": null,
   "id": "47d02f66-fb5e-4731-a506-8a1806b996b9",
   "metadata": {},
   "outputs": [],
   "source": []
  },
  {
   "cell_type": "code",
   "execution_count": null,
   "id": "95de19de-2ccc-4d98-ba64-86eaf164b297",
   "metadata": {},
   "outputs": [],
   "source": []
  },
  {
   "cell_type": "code",
   "execution_count": null,
   "id": "390d660f-14fb-4795-9d4b-252e25b2c464",
   "metadata": {},
   "outputs": [],
   "source": []
  },
  {
   "cell_type": "markdown",
   "id": "03677769-fac7-422e-921d-94ac88a2b112",
   "metadata": {},
   "source": [
    "## Extract performance during training epochs"
   ]
  },
  {
   "cell_type": "code",
   "execution_count": null,
   "id": "e6b63540-f2b9-4891-8196-95c75a0cf946",
   "metadata": {},
   "outputs": [],
   "source": [
    "#=====================================================================\n",
    "# READ DATA\n",
    "ROOT_DATA = cfg.ROOT_TRAINING_RSLTS\n",
    "\n",
    "model_epo_perf = glob.glob(os.path.join(ROOT_DATA, '*', 'perform_acrss_epo', \"*\", \"performance_across_Epochs.pkl\"))\n",
    "model_epo_perf\n",
    "\n",
    "#=====================================================================\n",
    "# LOOP across each perforamnce directory\n",
    "perf_meta = []\n",
    "for p in model_epo_perf: \n",
    "\n",
    "    #_____________\n",
    "    # Read file\n",
    "    with open(p, 'rb') as f:\n",
    "        perf_dct = pickle.load(f)\n",
    "\n",
    "    #_____________\n",
    "    # Extract keys\n",
    "    trnTrackID = perf_dct['track_train_id']\n",
    "    foldID = perf_dct['fold_id'] # nomenclature: f\"seed{random_state in Kfold fun}_fold(n of data splits)\n",
    "    archID = perf_dct['arch_id']\n",
    "\n",
    "    perf_meta.append([trnTrackID, \n",
    "                      foldID, \n",
    "                      archID, \n",
    "                      p, \n",
    "                     ])\n",
    "\n",
    "    #_________________________________________________\n",
    "    # break\n",
    "#=====================================================================\n",
    "# Create metadatabase for perforamnces during training epochs during training.\n",
    "cols = ['track_train_id', 'fold_id', 'arch_id', 'path_perf_dct']\n",
    "d_prf_meta = pd.DataFrame(perf_meta, columns=cols)\n",
    "d_prf_meta.head()"
   ]
  },
  {
   "cell_type": "code",
   "execution_count": null,
   "id": "8c91db2c-5db6-4fc7-a70a-b5efa0e4d3b5",
   "metadata": {},
   "outputs": [],
   "source": [
    "pickle_fpath = d_prf_meta[\"path_perf_dct\"][0]\n",
    "with open(pickle_fpath, 'rb') as f:\n",
    "    perf_dct = pickle.load(f)\n",
    "\n",
    "perf_dct.keys()"
   ]
  },
  {
   "cell_type": "markdown",
   "id": "ff7c6e06-dc67-498c-b9a0-bb0f47537fd4",
   "metadata": {},
   "source": [
    "**performance_across_Epochs.pkl:**\n",
    "- For each epoch it calculates and stores performance metrics for training and test sets"
   ]
  },
  {
   "cell_type": "markdown",
   "id": "7d0f848b-1ee4-41aa-b48a-5bbd6de7b49c",
   "metadata": {},
   "source": [
    "## Extract Params for the whole ML pipeline"
   ]
  },
  {
   "cell_type": "code",
   "execution_count": null,
   "id": "84fc956b-57a0-4711-ab89-bda8cd413930",
   "metadata": {},
   "outputs": [],
   "source": [
    "ROOT_DATA = cfg.ROOT_TRAINING_RSLTS\n",
    "\n",
    "ml_pipe_params_paths = glob.glob(os.path.join(ROOT_DATA, '*', 'ML_pipe_params', \"ML_pipe_all_params_*.pkl\"))\n",
    "ml_pipe_params_paths\n",
    "\n",
    "#=========================================================================\n",
    "# LOOP across each perforamnce directory\n",
    "ml_parms_meta = []\n",
    "for p in ml_pipe_params_paths:\n",
    "\n",
    "    #________________________\n",
    "    # Read file \n",
    "    with open(p, 'rb') as f:\n",
    "        ml_pipe_parms_dct = pickle.load(f)\n",
    "    #________________________\n",
    "    # Flat dictionary\n",
    "    flat_dct = flatten_dict(ml_pipe_parms_dct, parent_key='', sep='__')\n",
    "\n",
    "    \n",
    "    #________________________\n",
    "    # Store\n",
    "    ml_parms_meta.append(flat_dct)\n",
    "\n",
    "    #________________________\n",
    "    # break\n",
    "#----------------------------\n",
    "# if a dictionary key is missing in some Training Track IDs, due to diff architecture, training, etc\n",
    "#  -- it needs to be added with Nan values. <<--- Pending\n",
    "d_ml_pipe_params = pd.DataFrame(ml_parms_meta)\n",
    "d_ml_pipe_params.info()"
   ]
  },
  {
   "cell_type": "code",
   "execution_count": null,
   "id": "91558f6d-dd44-4096-927c-292270a0d3e1",
   "metadata": {},
   "outputs": [],
   "source": []
  },
  {
   "cell_type": "markdown",
   "id": "16d7f460-f797-4f9d-9d20-3b6c572049cf",
   "metadata": {},
   "source": [
    "## Extract prediction (y_pred per instance) of final training epoch"
   ]
  },
  {
   "cell_type": "code",
   "execution_count": null,
   "id": "00dd87eb-112f-4f5c-9861-97c229732c4b",
   "metadata": {},
   "outputs": [],
   "source": [
    "split_rslts = \"test_result.csv\" # last training epoch of that training track\n",
    "\n",
    "ROOT_DATA = cfg.ROOT_TRAINING_RSLTS\n",
    "\n",
    "ypred_rslts_paths = glob.glob(os.path.join(ROOT_DATA, \"*\", \"predictions\", \"*\", split_rslts,))\n",
    "ypred_rslts_paths"
   ]
  },
  {
   "cell_type": "code",
   "execution_count": null,
   "id": "3d666f3e-5726-4365-88d5-c930af44c7ac",
   "metadata": {},
   "outputs": [],
   "source": [
    "tst_rslts = pd.read_csv(ypred_rslts_paths[0])\n",
    "tst_rslts[\"y_true\"].value_counts()"
   ]
  },
  {
   "cell_type": "code",
   "execution_count": null,
   "id": "67a15566-fe43-438d-ae4e-aba45b351a65",
   "metadata": {},
   "outputs": [],
   "source": [
    "tst_rslts[\"y_true\"].shape"
   ]
  },
  {
   "cell_type": "code",
   "execution_count": null,
   "id": "a613d09c-2a2e-4947-b123-2755539e15b3",
   "metadata": {},
   "outputs": [],
   "source": [
    "class_counts = tst_rslts[\"y_true\"].value_counts(normalize=True)  # gives class proportions\n",
    "class_counts"
   ]
  },
  {
   "cell_type": "code",
   "execution_count": null,
   "id": "9a6b4482-68f9-4cc6-8ea7-1f456168e7fc",
   "metadata": {},
   "outputs": [],
   "source": [
    "class_counts = tst_rslts[\"y_true\"].value_counts(normalize=True)  # gives class proportions\n",
    "expected_random_accuracy = (class_counts ** 2).sum()\n",
    "expected_random_accuracy"
   ]
  },
  {
   "cell_type": "code",
   "execution_count": null,
   "id": "bd9d0796-2d10-4c05-8395-08b4ad49d204",
   "metadata": {},
   "outputs": [],
   "source": []
  },
  {
   "cell_type": "markdown",
   "id": "ef029b12-f18b-458a-9819-d94586205b13",
   "metadata": {},
   "source": [
    "## TRACK META - GLobal"
   ]
  },
  {
   "cell_type": "markdown",
   "id": "642b2020-93a6-4729-b9a5-3ad211faeb02",
   "metadata": {},
   "source": [
    "**This DataFrame will contain all information related to:**\n",
    "- Complete DL Pipelines\n",
    "- path to pickle file that contains the metric performance calculated during training epochs"
   ]
  },
  {
   "cell_type": "code",
   "execution_count": null,
   "id": "8d84d9c7-9d54-46c2-a5c3-2ba3e5e8e76d",
   "metadata": {},
   "outputs": [],
   "source": [
    "d_meta = d_prf_meta.merge(d_ml_pipe_params,\n",
    "                          how=\"left\",\n",
    "                          left_on=\"track_train_id\",\n",
    "                          right_on=\"training_step__TrackID\")\n",
    "d_meta.info()"
   ]
  },
  {
   "cell_type": "markdown",
   "id": "1d7c0cac-0426-433c-8856-ba452f30d046",
   "metadata": {},
   "source": [
    "## VIZ Performances comparison"
   ]
  },
  {
   "cell_type": "code",
   "execution_count": null,
   "id": "11ad5635-22b8-47cb-8a8b-558c0a8364ff",
   "metadata": {
    "scrolled": true
   },
   "outputs": [],
   "source": [
    "metric = 'acc_tst'\n",
    "#==================================\n",
    "metric_perf = []\n",
    "for r, data in d_meta.iterrows():\n",
    "    \n",
    "    #---------------------------------------\n",
    "    # Load performance during training epochs.\n",
    "    performance_during_training_path = Path(PureWindowsPath(data[\"path_perf_dct\"]))\n",
    "    with open(performance_during_training_path, 'rb') as f:\n",
    "        perf_dct = pickle.load(f)\n",
    "        \"\"\"\n",
    "        Keys: \n",
    "            ['prcsn_trn', 'f1score_trn', 'rec_trn', 'ba_trn', 'acc_trn', 'loss_trn', \n",
    "             'prcsn_tst', 'f1score_tst', 'rec_tst', 'ba_tst', 'acc_tst', 'loss_tst', \n",
    "             'lr', 'track_train_id', 'fold_id', 'arch_id']\n",
    "\n",
    "        \"\"\"\n",
    "\n",
    "    #---------------------------------------\n",
    "    # Extracting metric performance selected during training epochs. \n",
    "    metric_perf.append((data[\"track_train_id\"],\n",
    "                        data[\"prepro_pipe__pipe_name\"],\n",
    "                        data[\"arch_id\"],\n",
    "                        perf_dct[metric],\n",
    "                        data[\"split_strategy__shuffle_instances\"]\n",
    "                       ),\n",
    "                       )\n",
    "\n",
    "    #________________________________________________\n",
    "    # break\n",
    "#---------------------------------------------------\n",
    "cols = [\"track_train_id\", \"prepro_pipe__pipe_name\",\"architecture__arch_ID\",\"metric_vals\", \"leak\"]\n",
    "d_metric_perf = pd.DataFrame(metric_perf, columns=cols)\n",
    "d_metric_perf"
   ]
  },
  {
   "cell_type": "code",
   "execution_count": null,
   "id": "28b4dca7-79c9-489a-99ed-511365cf2a6d",
   "metadata": {},
   "outputs": [],
   "source": []
  },
  {
   "cell_type": "code",
   "execution_count": null,
   "id": "42608660-f5b5-4c97-b199-27f31677a007",
   "metadata": {},
   "outputs": [],
   "source": [
    "\n",
    "arch_name_wild_card=\"alexnet\"\n",
    "pipe_names = [\"pipe001\", \"pipe002\"]\n",
    "\n",
    "c1 = d_metric_perf['architecture__arch_ID'].str.lower().str.contains(arch_name_wild_card)\n",
    "c2 = d_metric_perf['prepro_pipe__pipe_name'].isin(pipe_names)\n",
    "\n",
    "from matplotlib.lines import Line2D\n",
    "custom_legend_handles1, custom_legend_handles2 = [], []\n",
    "plt.figure(figsize=(16,8))\n",
    "for r, data in d_metric_perf[c1&c2].sort_values(by=[\"leak\"]).iterrows():\n",
    "\n",
    "    #_______________________________________________________\n",
    "    # Creating series label \n",
    "    leakage_exp = data[\"leak\"]\n",
    "    track = data[\"track_train_id\"]\n",
    "    \n",
    "    leak = \"Yes\" if leakage_exp else \"No \"\n",
    "    track = track.split(\"_\")[1]\n",
    "    serie_label_name = f\"leak: {leak} | TrackID: {track}\"\n",
    "\n",
    "    #_______________________________________________________\n",
    "    serie_values = data[\"metric_vals\"]\n",
    "\n",
    "    #_______________________________________________________\n",
    "    color_line = \"#6C7A89\" if leakage_exp else \"#D5D8DC\"\n",
    "    plt.plot(serie_values, label=serie_label_name, color=color_line, zorder=3)\n",
    "\n",
    "    # last epoch performace\n",
    "    sc = plt.scatter(len(serie_values) - 1, serie_values[-1], zorder=3)\n",
    "    #----------------------------\n",
    "\n",
    "    legend_label = (\n",
    "        f'{serie_label_name}: '\n",
    "        f'$\\u2015$'  # Unicode for horizontal line\n",
    "        f' (line)  '\n",
    "        f'$\\u25CF$'  # Unicode for filled circle with this color : sc.get_facecolor()[0]\n",
    "        f' (marker)' \n",
    "    )\n",
    "    custom_legend_handles1.append(Line2D(\n",
    "        [0], [0],\n",
    "        color=color_line,\n",
    "        # marker='o',\n",
    "        # markerfacecolor=sc.get_facecolor()[0],\n",
    "        # label=f'{serie_label_name}: line + marker'\n",
    "        label=legend_label,\n",
    "    ))\n",
    "    # custom_legend_handles2.append(Line2D(\n",
    "    #     [0], [0],\n",
    "    #     # color=color_line,\n",
    "    #     marker='o',\n",
    "    #     # markerfacecolor=sc.get_facecolor()[0],\n",
    "    #     # label=f'{serie_label_name}: line + marker'\n",
    "    #     label=legend_label,\n",
    "    # ))\n",
    "\n",
    "\n",
    "\n",
    "\n",
    "    #_______________________________________________________\n",
    "    # break\n",
    "#-----------------------------------------------------------\n",
    "plt.axhline(expected_random_accuracy, color='firebrick', linestyle='--', linewidth=1, \n",
    "            # label='Random Baseline', \n",
    "           )\n",
    "# Annotate the line\n",
    "plt.text(\n",
    "    x=7.5, \n",
    "    y=expected_random_accuracy - 0.03, \n",
    "    s=f'Random Baseline ≈ {expected_random_accuracy:.2f}',\n",
    "    color='firebrick',\n",
    "    fontsize=10,\n",
    "    fontweight='bold'\n",
    ")\n",
    "\n",
    "plt.title(\"Accuracy for Test set \")\n",
    "# plt.legend(handles=[(custom_legend_handles1, custom_legend_handles2)])\n",
    "# plt.legend(handles=custom_legend_handles1)\n",
    "plt.legend(loc='center left', bbox_to_anchor=(1, 0.5))\n",
    "plt.grid(color='lightgray', linestyle=\"--\", zorder=0 )\n",
    "plt.yticks(np.arange(0, 1.1, 0.1)) \n",
    "plt.ylim(0,1.05)\n",
    "plt.show()"
   ]
  },
  {
   "cell_type": "code",
   "execution_count": null,
   "id": "7f2ae25e-1d31-403f-a969-4b440081e541",
   "metadata": {
    "scrolled": true
   },
   "outputs": [],
   "source": []
  },
  {
   "cell_type": "markdown",
   "id": "f82ee635-4626-4d54-a2fd-61d7c7cca68a",
   "metadata": {},
   "source": [
    "# Tracking DL pipeline hyperameters"
   ]
  },
  {
   "cell_type": "markdown",
   "id": "b1238850-89b9-4b06-9053-57cd24187d6d",
   "metadata": {},
   "source": [
    "## Split strategy | without track seed."
   ]
  },
  {
   "attachments": {
    "d4b0224b-5f48-4872-8cc8-9c7d58d2a08b.png": {
     "image/png": "[encoded data removed]"
    }
   },
   "cell_type": "markdown",
   "id": "245517ab-183c-4e19-861f-411f3351ed85",
   "metadata": {},
   "source": [
    "![image.png](attachment:d4b0224b-5f48-4872-8cc8-9c7d58d2a08b.png)"
   ]
  },
  {
   "attachments": {
    "860b13f7-75a6-4232-bfe1-bb6980e858dc.png": {
     "image/png": "[encoded data removed]"
    }
   },
   "cell_type": "markdown",
   "id": "49157d2b-771e-4e5b-8a33-de50d47d85bc",
   "metadata": {},
   "source": [
    "![image.png](attachment:860b13f7-75a6-4232-bfe1-bb6980e858dc.png)"
   ]
  },
  {
   "cell_type": "code",
   "execution_count": null,
   "id": "de4fa641-fdcd-4120-850c-fdcaf1a541ae",
   "metadata": {},
   "outputs": [],
   "source": []
  },
  {
   "cell_type": "markdown",
   "id": "dc227585-60bf-42cf-be26-fc994587cd64",
   "metadata": {},
   "source": [
    "## Training Strategy params"
   ]
  },
  {
   "attachments": {
    "ec8263c9-3291-41be-a3dd-393e79f67dbd.png": {
     "image/png": "[encoded data removed]"
    }
   },
   "cell_type": "markdown",
   "id": "d1187d7a-1662-47ad-8391-ee464ab2b32a",
   "metadata": {},
   "source": [
    "![image.png](attachment:ec8263c9-3291-41be-a3dd-393e79f67dbd.png)"
   ]
  },
  {
   "attachments": {
    "b30bbf03-64a2-4027-9104-5c2e0292f11c.png": {
     "image/png": "[encoded data removed]"
    }
   },
   "cell_type": "markdown",
   "id": "4e2f97c4-7d7d-413e-aae9-b12485fecc6c",
   "metadata": {},
   "source": [
    "![image.png](attachment:b30bbf03-64a2-4027-9104-5c2e0292f11c.png)"
   ]
  },
  {
   "attachments": {
    "2b77ff24-ced6-4039-9c41-f7b16a33a2b0.png": {
     "image/png": "[encoded data removed]"
    }
   },
   "cell_type": "markdown",
   "id": "c7165565-f0f7-4427-b068-15470c66ef39",
   "metadata": {},
   "source": [
    "![image.png](attachment:2b77ff24-ced6-4039-9c41-f7b16a33a2b0.png)"
   ]
  },
  {
   "attachments": {
    "ad162d16-fde4-4af1-a504-e99279f07cb7.png": {
     "image/png": "[encoded data removed]"
    }
   },
   "cell_type": "markdown",
   "id": "bf248e8e-1941-4675-bda6-fea86661ccaa",
   "metadata": {},
   "source": [
    "![image.png](attachment:ad162d16-fde4-4af1-a504-e99279f07cb7.png)"
   ]
  },
  {
   "cell_type": "code",
   "execution_count": null,
   "id": "5918f7e4-a793-4cee-b87b-d0c28dacd475",
   "metadata": {},
   "outputs": [],
   "source": []
  },
  {
   "cell_type": "markdown",
   "id": "a7af614a-60e9-43c5-b263-86daf0ee10e1",
   "metadata": {},
   "source": [
    "# Report"
   ]
  },
  {
   "cell_type": "markdown",
   "id": "779e4471-5b20-4e96-9946-5a6fc566bfe5",
   "metadata": {},
   "source": [
    "## Vanilla CNN | Pipe001"
   ]
  },
  {
   "cell_type": "code",
   "execution_count": null,
   "id": "ca80e251-b408-4f37-9823-8b4d5fa39474",
   "metadata": {},
   "outputs": [],
   "source": [
    "d_m = perf_last_epoch_metric_distr_info(d_meta, arch_name_wild_card=\"vanilla\", \n",
    "                                        pipe_names=['pipe001'])\n",
    "d_m"
   ]
  },
  {
   "cell_type": "markdown",
   "id": "9514dff2-6fda-4226-b6ab-c0d741a66592",
   "metadata": {},
   "source": [
    "## Vanilla CNN | Pipe002"
   ]
  },
  {
   "cell_type": "code",
   "execution_count": null,
   "id": "371afbde-0324-4dcc-8288-41f50c26865e",
   "metadata": {},
   "outputs": [],
   "source": [
    "d_m = perf_last_epoch_metric_distr_info(d_meta, arch_name_wild_card=\"vanilla\", \n",
    "                                        pipe_names=['pipe002'])\n",
    "d_m"
   ]
  },
  {
   "cell_type": "markdown",
   "id": "b83d1007-5d3d-42f1-a5fa-5a0740230899",
   "metadata": {},
   "source": [
    "## Vanilla CNN | Pipe003"
   ]
  },
  {
   "cell_type": "code",
   "execution_count": null,
   "id": "48b7458d-bb3a-46f6-8874-e12b81d56aa7",
   "metadata": {},
   "outputs": [],
   "source": [
    "d_m = perf_last_epoch_metric_distr_info(d_meta, arch_name_wild_card=\"vanilla\", \n",
    "                                        pipe_names=['pipe003'])\n",
    "d_m"
   ]
  },
  {
   "cell_type": "markdown",
   "id": "334ec53b-d882-44e3-ae3e-951176bd467c",
   "metadata": {},
   "source": [
    "## Vanilla CNN | Pipe004"
   ]
  },
  {
   "cell_type": "code",
   "execution_count": null,
   "id": "65f96bc1-83e0-41d7-8e4c-c61d1f8d901a",
   "metadata": {},
   "outputs": [],
   "source": [
    "d_m = perf_last_epoch_metric_distr_info(d_meta, arch_name_wild_card=\"vanilla\", \n",
    "                                        pipe_names=['pipe004'])\n",
    "d_m"
   ]
  },
  {
   "cell_type": "code",
   "execution_count": null,
   "id": "befb3e52-ac13-4f38-bce2-1565cf4e773a",
   "metadata": {},
   "outputs": [],
   "source": []
  },
  {
   "cell_type": "markdown",
   "id": "9b86ffe2-542a-43c7-9015-1157c9c04c1d",
   "metadata": {},
   "source": [
    "## RESNET | PIPE001"
   ]
  },
  {
   "cell_type": "code",
   "execution_count": null,
   "id": "e9251591-39db-49e4-957e-218be7fb3cfe",
   "metadata": {},
   "outputs": [],
   "source": [
    "d_m = perf_last_epoch_metric_distr_info(d_meta, arch_name_wild_card=\"resnet\", \n",
    "                                        pipe_names=['pipe001'])\n",
    "d_m"
   ]
  },
  {
   "cell_type": "markdown",
   "id": "d7ee8249-34c8-4f76-83a4-01bbd0a8889f",
   "metadata": {},
   "source": [
    "**TrainTrack 004 and 003**\n",
    "- A clear example showing that a poorly configured algorithm can perform worse than simpler algorithms (e.g., vanilla 2D CNN), even when those simpler models suffer from data leakage.\n",
    "\n",
    "\n",
    "**TrainTrack 005 and 006:**\n",
    "\n",
    "Only Training step strategy was updated. \n",
    "- Pipe001 outputs images with raw pixel values. Even though ResNet includes batch normalization layers, small batch sizes are likely to cause instability.\n",
    "- Larger batch sizes and more training epochs were used to improve stability, with the expectation of achieving over 90% accuracy with leakage, and close to 70% without leakage."
   ]
  },
  {
   "cell_type": "markdown",
   "id": "d631b422-7bc1-4dfe-9672-86d6d7c76048",
   "metadata": {},
   "source": [
    "## RESNET | PIPE002"
   ]
  },
  {
   "cell_type": "code",
   "execution_count": null,
   "id": "2d8fd4a6-609d-4b29-99d6-71db61adb506",
   "metadata": {},
   "outputs": [],
   "source": [
    "d_m = perf_last_epoch_metric_distr_info(d_meta, arch_name_wild_card=\"resnet\", \n",
    "                                        pipe_names=['pipe002'])\n",
    "d_m"
   ]
  },
  {
   "cell_type": "markdown",
   "id": "96c16802-85f7-410e-8981-e4fdcaf875e1",
   "metadata": {},
   "source": [
    "## RESNET | PIPE003"
   ]
  },
  {
   "cell_type": "code",
   "execution_count": null,
   "id": "dc53b3ea-258f-41f3-851e-181a477154c1",
   "metadata": {},
   "outputs": [],
   "source": [
    "d_m = perf_last_epoch_metric_distr_info(d_meta, arch_name_wild_card=\"resnet\", \n",
    "                                        pipe_names=['pipe003'])\n",
    "d_m"
   ]
  },
  {
   "cell_type": "markdown",
   "id": "282a1d33-0580-48aa-9441-57e3e1941b5a",
   "metadata": {},
   "source": [
    "## RESNET | PIPE004"
   ]
  },
  {
   "cell_type": "code",
   "execution_count": null,
   "id": "f40c43a4-0732-4d01-92fe-f16f4cb39e5d",
   "metadata": {},
   "outputs": [],
   "source": [
    "d_m = perf_last_epoch_metric_distr_info(d_meta, arch_name_wild_card=\"resnet\", \n",
    "                                        pipe_names=['pipe004'])\n",
    "d_m"
   ]
  },
  {
   "cell_type": "markdown",
   "id": "f934c5b0-7d36-4b12-ae8e-75559a5eba94",
   "metadata": {},
   "source": [
    "## ALEXNET | PIPE001"
   ]
  },
  {
   "cell_type": "code",
   "execution_count": null,
   "id": "409ac709-7d99-4118-bc78-bc0cd89689c3",
   "metadata": {
    "scrolled": true
   },
   "outputs": [],
   "source": [
    "d_m = perf_last_epoch_metric_distr_info(d_meta, arch_name_wild_card=\"alexnet\", \n",
    "                                        pipe_names=['pipe001'])\n",
    "d_m"
   ]
  },
  {
   "cell_type": "markdown",
   "id": "0f7133c8-f47e-4c82-875a-e8debf07b672",
   "metadata": {},
   "source": [
    "**AlexNet**\n",
    "- user larger kernel size in the first 2D CNN layers compared to Vanilla2DCNN and RESNET18. Therefore, initially is very sensitive to inputs (img) scales and gradients.\n",
    "- Has no mechanism to normalize internal activations, so it's vulnerable to high variance in gradients\n",
    "    - AlexNet’s early layers can produce very large activations, especially with unnormalized inputs (pixel values 0–255)\n",
    "- Small batches gradient estimtes are more noisy, each mini-batch gives a slightly different direction for optimization\n",
    "- so, smaller lr control activation, larger batch less noisy gradients estimates creating, helping to reach estability faster, but to be sure, increase number of training epochs. "
   ]
  },
  {
   "cell_type": "code",
   "execution_count": null,
   "id": "1c314fdf-8978-4f90-8eae-385c294294e6",
   "metadata": {},
   "outputs": [],
   "source": [
    "d_m = perf_last_epoch_metric_distr_info(d_meta, arch_name_wild_card=\"alexnet\", \n",
    "                                        pipe_names=['pipe004'])\n",
    "d_m"
   ]
  },
  {
   "cell_type": "code",
   "execution_count": null,
   "id": "afe78c2e-de56-45bc-9530-26101303aa2c",
   "metadata": {},
   "outputs": [],
   "source": []
  },
  {
   "cell_type": "code",
   "execution_count": null,
   "id": "e0cc67da-53ce-46cf-b71c-e3812f94864d",
   "metadata": {},
   "outputs": [],
   "source": []
  },
  {
   "cell_type": "code",
   "execution_count": null,
   "id": "581230c0-c936-4862-97bc-6ae877ebefe7",
   "metadata": {},
   "outputs": [],
   "source": []
  },
  {
   "cell_type": "code",
   "execution_count": null,
   "id": "99d2875b-20d6-446c-b143-07fbb6ca1ae4",
   "metadata": {},
   "outputs": [],
   "source": []
  }
 ],
 "metadata": {
  "kernelspec": {
   "display_name": "Python 3 (ipykernel)",
   "language": "python",
   "name": "python3"
  },
  "language_info": {
   "codemirror_mode": {
    "name": "ipython",
    "version": 3
   },
   "file_extension": ".py",
   "mimetype": "text/x-python",
   "name": "python",
   "nbconvert_exporter": "python",
   "pygments_lexer": "ipython3",
   "version": "3.10.12"
  }
 },
 "nbformat": 4,
 "nbformat_minor": 5
}
