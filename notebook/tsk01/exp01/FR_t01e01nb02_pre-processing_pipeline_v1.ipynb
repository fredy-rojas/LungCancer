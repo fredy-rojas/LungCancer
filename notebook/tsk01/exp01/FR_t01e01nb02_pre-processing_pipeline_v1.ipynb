{
 "cells": [
  {
   "cell_type": "code",
   "execution_count": null,
   "id": "4164745f-e4a8-4ac1-a188-898cbc238a41",
   "metadata": {},
   "outputs": [],
   "source": []
  },
  {
   "cell_type": "markdown",
   "id": "06c0b1bf-a6ec-4a57-a100-92819be701ab",
   "metadata": {},
   "source": [
    "## About this notebook"
   ]
  },
  {
   "cell_type": "markdown",
   "id": "a5823e02-52e8-49ea-a6f1-6a661f1476a4",
   "metadata": {},
   "source": [
    "**Prototyping pre-processing original images**"
   ]
  },
  {
   "cell_type": "markdown",
   "id": "75ac60a5-96f3-4855-a7ed-7a7988136440",
   "metadata": {},
   "source": [
    "**Prototyping: CODE for preprocessing pipeline pipe001**"
   ]
  },
  {
   "cell_type": "code",
   "execution_count": null,
   "id": "f8bddac9-be4d-43fb-a39d-e05afe4d67e4",
   "metadata": {},
   "outputs": [],
   "source": []
  },
  {
   "cell_type": "markdown",
   "id": "b1551a6c-ab1c-4913-a9ac-35a81d811940",
   "metadata": {},
   "source": [
    "## Import libraries"
   ]
  },
  {
   "cell_type": "code",
   "execution_count": 1,
   "id": "df1b93fc-234b-4e95-a6d1-9f27746c0566",
   "metadata": {},
   "outputs": [],
   "source": [
    "import os\n",
    "import glob\n",
    "import re\n",
    "\n",
    "import numpy as np \n",
    "import pandas as pd\n",
    "\n",
    "import cv2"
   ]
  },
  {
   "cell_type": "code",
   "execution_count": null,
   "id": "d1386553-e6f0-46a1-806f-52b52dc3688e",
   "metadata": {},
   "outputs": [],
   "source": []
  },
  {
   "cell_type": "markdown",
   "id": "33ef03f8-a620-47f0-b7fa-e6b025f4cd00",
   "metadata": {},
   "source": [
    "## Config"
   ]
  },
  {
   "cell_type": "code",
   "execution_count": 2,
   "id": "e46324e4-b975-4f21-8919-485712528fca",
   "metadata": {},
   "outputs": [],
   "source": [
    "class cfg: \n",
    "    #==================================================\n",
    "    # THIS NOTEBOOK ID\n",
    "    THIS_NOTEBOOK_REF = \"FR_t01e01nb02v1\"\n",
    "    \n",
    "    #==================================================\n",
    "    # ROOT DATA SOURCE\n",
    "    ROOT_DATA = os.path.join('..', '..', '..', \n",
    "                             'data', \n",
    "                             '01_original', \n",
    "                             'IQ_OTHNCCD_LungCancer', \n",
    "                             'IQ_OTHNCCD')\n",
    "    \n",
    "    #==================================================\n",
    "    # ROOT DATA SAVE\n",
    "    ROOT_2SAVE = os.path.join('..', '..', '..', \n",
    "                              'data',\n",
    "                             )\n"
   ]
  },
  {
   "cell_type": "code",
   "execution_count": null,
   "id": "a202655b-f038-497c-ad57-c23c5b4afab9",
   "metadata": {},
   "outputs": [],
   "source": []
  },
  {
   "cell_type": "markdown",
   "id": "8d84d3d7-5e0a-4e9f-bf13-ed8d2d9209ff",
   "metadata": {},
   "source": [
    "## Utility functions"
   ]
  },
  {
   "cell_type": "markdown",
   "id": "9b23f9e7-b388-4ace-a8ba-05332ab0b1fb",
   "metadata": {},
   "source": [
    "### create_img_d_meta()"
   ]
  },
  {
   "cell_type": "code",
   "execution_count": 4,
   "id": "a35b3e5b-911a-46a7-9390-a475fc0e542c",
   "metadata": {},
   "outputs": [],
   "source": [
    "def create_img_d_meta(ROOT_DATA): \n",
    "\n",
    "    \"\"\"\n",
    "    Description: \n",
    "    ------------\n",
    "        this function find all the images path and create a \n",
    "            pd.DataFrame() d_meta for easy filetering and \n",
    "            selection of the images for each experiment. \n",
    "            This function is optimize for this dataset IQ_OTHNCCD\n",
    "\n",
    "    Pararmentter\n",
    "    ------------\n",
    "        ROOT_DATA: path where the image data is stored. \n",
    "                    Expected data structure within the ROOT directory\n",
    "                    IQ_OTHNCCD\n",
    "                        ├───Bengin cases\n",
    "                        ├───Malignant cases\n",
    "                        └───Normal cases\n",
    "\n",
    "\n",
    "    Return: \n",
    "    --------\n",
    "        d_meta: pd.DataFrame of metadata of images with columns : \n",
    "            'path', 'fname', 'img_n_order', 'cls_name', 'y_true\n",
    "                col 'img_n_order' indicates the order of the image provided by the \n",
    "                                 data creators \n",
    "\n",
    "            map_dict use for y_true \n",
    "            map_dict = {'Normal cases': 0, \n",
    "                        'Bengin cases': 1, \n",
    "                        'Malignant cases': 2, \n",
    "                        }\n",
    "        \n",
    "    \"\"\"\n",
    "\n",
    "    #___________________________\n",
    "    # Find all path \n",
    "    all_img_path_lst = glob.glob(os.path.join(ROOT_DATA, '*', '*.jpg'))\n",
    "\n",
    "    #___________________________\n",
    "    # adding meta to each image path. \n",
    "    store_d = []\n",
    "    for p in all_img_path_lst:\n",
    "    \n",
    "        fname = os.path.split(p)[1]\n",
    "        cls_name = os.path.split(os.path.split(p)[0])[1]\n",
    "        img_n_order = int(re.findall(r'\\((.*?)\\)', fname)[0])\n",
    "\n",
    "        #__________\n",
    "        # Images in IQ_OTHNCCD are gray scale\n",
    "        img = cv2.imread(filename=p, flags=0)\n",
    "        original_shape = img.shape\n",
    "    \n",
    "        #------\n",
    "        # Store data \n",
    "        store_d.append([p, \n",
    "                        fname, \n",
    "                        img_n_order, \n",
    "                        cls_name, \n",
    "                        original_shape,\n",
    "                       ])\n",
    "        #------\n",
    "        #___________________________________________\n",
    "        # break\n",
    "    #_______________________________________________\n",
    "    # Creating d_meta\n",
    "    d_meta = pd.DataFrame(store_d, columns=[\"path_original\", \"fname\", \"img_n_order\", \"cls_name\", \"img_shape_original\"])\n",
    "    d_meta[\"img_shape_original\"] = d_meta[\"img_shape_original\"].apply(lambda x: f\"{x[0]}x{x[1]}\" if isinstance(x, tuple) else str(x))\n",
    "    map_dict = {'Normal cases': 0, \n",
    "                'Bengin cases': 1, \n",
    "                'Malignant cases': 2\n",
    "               }\n",
    "    d_meta['cls_id'] = d_meta['cls_name'].map(map_dict)\n",
    "    d_meta[\"img_ID\"] = \"cls\" + d_meta['cls_id'].astype(str) + \"_order\" + d_meta[\"img_n_order\"].astype(str)\n",
    "    d_meta.sort_values(by=[\"cls_id\", \"img_n_order\",], ignore_index=True, inplace=True)\n",
    "    #_______________________________________________\n",
    "    return d_meta\n"
   ]
  },
  {
   "cell_type": "markdown",
   "id": "0783c0d9-6cf1-4c3b-a144-61a40e460768",
   "metadata": {},
   "source": [
    "### apply_clahe()"
   ]
  },
  {
   "cell_type": "code",
   "execution_count": 5,
   "id": "80eaf4bf-b076-4c08-9764-67092313a7ed",
   "metadata": {},
   "outputs": [],
   "source": [
    "def apply_clahe(image, clipLimit=2.0, tileGridSize=(8,8)):\n",
    "    clahe = cv2.createCLAHE(clipLimit=clipLimit, tileGridSize=tileGridSize)\n",
    "    return clahe.apply(image)"
   ]
  },
  {
   "cell_type": "code",
   "execution_count": null,
   "id": "6d482c22-d1fc-4691-885d-15b4fa26961d",
   "metadata": {},
   "outputs": [],
   "source": []
  },
  {
   "cell_type": "markdown",
   "id": "a5fe617d-1387-4086-82f5-42c6987b4f00",
   "metadata": {},
   "source": [
    "## Create Meta"
   ]
  },
  {
   "cell_type": "code",
   "execution_count": 6,
   "id": "bfd9c618-52be-4203-9437-f131382a4128",
   "metadata": {},
   "outputs": [
    {
     "name": "stdout",
     "output_type": "stream",
     "text": [
      "<class 'pandas.core.frame.DataFrame'>\n",
      "RangeIndex: 1097 entries, 0 to 1096\n",
      "Data columns (total 7 columns):\n",
      " #   Column              Non-Null Count  Dtype \n",
      "---  ------              --------------  ----- \n",
      " 0   path_original       1097 non-null   object\n",
      " 1   fname               1097 non-null   object\n",
      " 2   img_n_order         1097 non-null   int64 \n",
      " 3   cls_name            1097 non-null   object\n",
      " 4   img_shape_original  1097 non-null   object\n",
      " 5   cls_id              1097 non-null   int64 \n",
      " 6   img_ID              1097 non-null   object\n",
      "dtypes: int64(2), object(5)\n",
      "memory usage: 60.1+ KB\n"
     ]
    },
    {
     "data": {
      "text/html": [
       "<div>\n",
       "<style scoped>\n",
       "    .dataframe tbody tr th:only-of-type {\n",
       "        vertical-align: middle;\n",
       "    }\n",
       "\n",
       "    .dataframe tbody tr th {\n",
       "        vertical-align: top;\n",
       "    }\n",
       "\n",
       "    .dataframe thead th {\n",
       "        text-align: right;\n",
       "    }\n",
       "</style>\n",
       "<table border=\"1\" class=\"dataframe\">\n",
       "  <thead>\n",
       "    <tr style=\"text-align: right;\">\n",
       "      <th></th>\n",
       "      <th>path_original</th>\n",
       "      <th>fname</th>\n",
       "      <th>img_n_order</th>\n",
       "      <th>cls_name</th>\n",
       "      <th>img_shape_original</th>\n",
       "      <th>cls_id</th>\n",
       "      <th>img_ID</th>\n",
       "    </tr>\n",
       "  </thead>\n",
       "  <tbody>\n",
       "    <tr>\n",
       "      <th>0</th>\n",
       "      <td>../../../data/01_original/IQ_OTHNCCD_LungCance...</td>\n",
       "      <td>Normal case (1).jpg</td>\n",
       "      <td>1</td>\n",
       "      <td>Normal cases</td>\n",
       "      <td>512x512</td>\n",
       "      <td>0</td>\n",
       "      <td>cls0_order1</td>\n",
       "    </tr>\n",
       "    <tr>\n",
       "      <th>1</th>\n",
       "      <td>../../../data/01_original/IQ_OTHNCCD_LungCance...</td>\n",
       "      <td>Normal case (2).jpg</td>\n",
       "      <td>2</td>\n",
       "      <td>Normal cases</td>\n",
       "      <td>512x512</td>\n",
       "      <td>0</td>\n",
       "      <td>cls0_order2</td>\n",
       "    </tr>\n",
       "    <tr>\n",
       "      <th>2</th>\n",
       "      <td>../../../data/01_original/IQ_OTHNCCD_LungCance...</td>\n",
       "      <td>Normal case (3).jpg</td>\n",
       "      <td>3</td>\n",
       "      <td>Normal cases</td>\n",
       "      <td>512x512</td>\n",
       "      <td>0</td>\n",
       "      <td>cls0_order3</td>\n",
       "    </tr>\n",
       "  </tbody>\n",
       "</table>\n",
       "</div>"
      ],
      "text/plain": [
       "                                       path_original                fname  \\\n",
       "0  ../../../data/01_original/IQ_OTHNCCD_LungCance...  Normal case (1).jpg   \n",
       "1  ../../../data/01_original/IQ_OTHNCCD_LungCance...  Normal case (2).jpg   \n",
       "2  ../../../data/01_original/IQ_OTHNCCD_LungCance...  Normal case (3).jpg   \n",
       "\n",
       "   img_n_order      cls_name img_shape_original  cls_id       img_ID  \n",
       "0            1  Normal cases            512x512       0  cls0_order1  \n",
       "1            2  Normal cases            512x512       0  cls0_order2  \n",
       "2            3  Normal cases            512x512       0  cls0_order3  "
      ]
     },
     "execution_count": 6,
     "metadata": {},
     "output_type": "execute_result"
    }
   ],
   "source": [
    "d_meta = create_img_d_meta(ROOT_DATA=cfg.ROOT_DATA)\n",
    "d_meta.info()\n",
    "d_meta.head(3)"
   ]
  },
  {
   "cell_type": "code",
   "execution_count": null,
   "id": "2242b23b-52bd-4ff3-bb16-543841b7be04",
   "metadata": {},
   "outputs": [],
   "source": []
  },
  {
   "cell_type": "markdown",
   "id": "8a3c90ef-9d45-4bf5-89df-b9c2e7001215",
   "metadata": {},
   "source": [
    "## Pipe001"
   ]
  },
  {
   "cell_type": "code",
   "execution_count": 7,
   "id": "49f4cecc-f609-4a9e-b588-c8ad2b4c40d4",
   "metadata": {},
   "outputs": [
    {
     "name": "stdout",
     "output_type": "stream",
     "text": [
      "CPU times: user 3.01 s, sys: 1.44 s, total: 4.45 s\n",
      "Wall time: 35.1 s\n"
     ]
    }
   ],
   "source": [
    "%%time\n",
    "\n",
    "pipeID=\"pipe001\"\n",
    "path2save_pipeID = os.path.join(cfg.ROOT_2SAVE, pipeID)\n",
    "img_size = 256 # pixels \n",
    "\n",
    "#________________________________________________________\n",
    "# Create folder\n",
    "os.makedirs(path2save_pipeID, exist_ok=True)\n",
    "\n",
    "\n",
    "#________________________________________________________\n",
    "\n",
    "store_meta_lst = []\n",
    "for r_id, data in d_meta.iterrows(): \n",
    "\n",
    "\n",
    "\n",
    "    #______________________________________________________________\n",
    "    # create class folder if needed \n",
    "    path = os.path.join(path2save_pipeID, f\"{pipeID}_imgs\", data[\"cls_name\"])\n",
    "    os.makedirs(path, exist_ok=True)\n",
    "\n",
    "    #______________________________________________________________\n",
    "    # pipe >> READ > Resize \n",
    "    img = cv2.imread(filename=data[\"path_original\"], flags=0)\n",
    "    img_resized = cv2.resize(img, (img_size, img_size)) # out_shape 256x256\n",
    "\n",
    "\n",
    "    #______________________________________________________________\n",
    "    # Store 2D numpy array (image with 1 channel, gray scale)\n",
    "    arr_name = f\"{pipeID}_{data['img_ID']}_.npy\"\n",
    "    path_arr_name = os.path.join(path, arr_name)\n",
    "    \n",
    "    np.save(path_arr_name, img_resized)\n",
    "\n",
    "    #______________________________________________________________\n",
    "    store_meta_lst.append([\n",
    "        data[\"path_original\"],\n",
    "        data[\"img_ID\"], \n",
    "        path_arr_name,\n",
    "        data[\"img_shape_original\"],\n",
    "        f\"{img_size}x{img_size}\",\n",
    "        data[\"img_n_order\"],\n",
    "        data[\"cls_name\"],\n",
    "        data[\"cls_id\"],\n",
    "    ])\n",
    "\n",
    "    #______________________________________________________________\n",
    "    # break\n",
    "#________________________"
   ]
  },
  {
   "cell_type": "code",
   "execution_count": 8,
   "id": "1783c3d9-aba7-45e2-ad39-a7af25c221f2",
   "metadata": {},
   "outputs": [
    {
     "name": "stdout",
     "output_type": "stream",
     "text": [
      "<class 'pandas.core.frame.DataFrame'>\n",
      "RangeIndex: 1097 entries, 0 to 1096\n",
      "Data columns (total 8 columns):\n",
      " #   Column              Non-Null Count  Dtype \n",
      "---  ------              --------------  ----- \n",
      " 0   path_original_img   1097 non-null   object\n",
      " 1   img_ID              1097 non-null   object\n",
      " 2   path_img_pipe001    1097 non-null   object\n",
      " 3   img_shape_original  1097 non-null   object\n",
      " 4   img_shape_pipe001   1097 non-null   object\n",
      " 5   img_n_order         1097 non-null   int64 \n",
      " 6   cls_name            1097 non-null   object\n",
      " 7   cls_id              1097 non-null   int64 \n",
      "dtypes: int64(2), object(6)\n",
      "memory usage: 68.7+ KB\n"
     ]
    },
    {
     "data": {
      "text/html": [
       "<div>\n",
       "<style scoped>\n",
       "    .dataframe tbody tr th:only-of-type {\n",
       "        vertical-align: middle;\n",
       "    }\n",
       "\n",
       "    .dataframe tbody tr th {\n",
       "        vertical-align: top;\n",
       "    }\n",
       "\n",
       "    .dataframe thead th {\n",
       "        text-align: right;\n",
       "    }\n",
       "</style>\n",
       "<table border=\"1\" class=\"dataframe\">\n",
       "  <thead>\n",
       "    <tr style=\"text-align: right;\">\n",
       "      <th></th>\n",
       "      <th>path_original_img</th>\n",
       "      <th>img_ID</th>\n",
       "      <th>path_img_pipe001</th>\n",
       "      <th>img_shape_original</th>\n",
       "      <th>img_shape_pipe001</th>\n",
       "      <th>img_n_order</th>\n",
       "      <th>cls_name</th>\n",
       "      <th>cls_id</th>\n",
       "    </tr>\n",
       "  </thead>\n",
       "  <tbody>\n",
       "    <tr>\n",
       "      <th>0</th>\n",
       "      <td>../../../data/01_original/IQ_OTHNCCD_LungCance...</td>\n",
       "      <td>cls0_order1</td>\n",
       "      <td>../../../data/pipe001/pipe001_imgs/Normal case...</td>\n",
       "      <td>512x512</td>\n",
       "      <td>256x256</td>\n",
       "      <td>1</td>\n",
       "      <td>Normal cases</td>\n",
       "      <td>0</td>\n",
       "    </tr>\n",
       "    <tr>\n",
       "      <th>1</th>\n",
       "      <td>../../../data/01_original/IQ_OTHNCCD_LungCance...</td>\n",
       "      <td>cls0_order2</td>\n",
       "      <td>../../../data/pipe001/pipe001_imgs/Normal case...</td>\n",
       "      <td>512x512</td>\n",
       "      <td>256x256</td>\n",
       "      <td>2</td>\n",
       "      <td>Normal cases</td>\n",
       "      <td>0</td>\n",
       "    </tr>\n",
       "    <tr>\n",
       "      <th>2</th>\n",
       "      <td>../../../data/01_original/IQ_OTHNCCD_LungCance...</td>\n",
       "      <td>cls0_order3</td>\n",
       "      <td>../../../data/pipe001/pipe001_imgs/Normal case...</td>\n",
       "      <td>512x512</td>\n",
       "      <td>256x256</td>\n",
       "      <td>3</td>\n",
       "      <td>Normal cases</td>\n",
       "      <td>0</td>\n",
       "    </tr>\n",
       "    <tr>\n",
       "      <th>3</th>\n",
       "      <td>../../../data/01_original/IQ_OTHNCCD_LungCance...</td>\n",
       "      <td>cls0_order4</td>\n",
       "      <td>../../../data/pipe001/pipe001_imgs/Normal case...</td>\n",
       "      <td>512x512</td>\n",
       "      <td>256x256</td>\n",
       "      <td>4</td>\n",
       "      <td>Normal cases</td>\n",
       "      <td>0</td>\n",
       "    </tr>\n",
       "    <tr>\n",
       "      <th>4</th>\n",
       "      <td>../../../data/01_original/IQ_OTHNCCD_LungCance...</td>\n",
       "      <td>cls0_order5</td>\n",
       "      <td>../../../data/pipe001/pipe001_imgs/Normal case...</td>\n",
       "      <td>512x512</td>\n",
       "      <td>256x256</td>\n",
       "      <td>5</td>\n",
       "      <td>Normal cases</td>\n",
       "      <td>0</td>\n",
       "    </tr>\n",
       "  </tbody>\n",
       "</table>\n",
       "</div>"
      ],
      "text/plain": [
       "                                   path_original_img       img_ID  \\\n",
       "0  ../../../data/01_original/IQ_OTHNCCD_LungCance...  cls0_order1   \n",
       "1  ../../../data/01_original/IQ_OTHNCCD_LungCance...  cls0_order2   \n",
       "2  ../../../data/01_original/IQ_OTHNCCD_LungCance...  cls0_order3   \n",
       "3  ../../../data/01_original/IQ_OTHNCCD_LungCance...  cls0_order4   \n",
       "4  ../../../data/01_original/IQ_OTHNCCD_LungCance...  cls0_order5   \n",
       "\n",
       "                                    path_img_pipe001 img_shape_original  \\\n",
       "0  ../../../data/pipe001/pipe001_imgs/Normal case...            512x512   \n",
       "1  ../../../data/pipe001/pipe001_imgs/Normal case...            512x512   \n",
       "2  ../../../data/pipe001/pipe001_imgs/Normal case...            512x512   \n",
       "3  ../../../data/pipe001/pipe001_imgs/Normal case...            512x512   \n",
       "4  ../../../data/pipe001/pipe001_imgs/Normal case...            512x512   \n",
       "\n",
       "  img_shape_pipe001  img_n_order      cls_name  cls_id  \n",
       "0           256x256            1  Normal cases       0  \n",
       "1           256x256            2  Normal cases       0  \n",
       "2           256x256            3  Normal cases       0  \n",
       "3           256x256            4  Normal cases       0  \n",
       "4           256x256            5  Normal cases       0  "
      ]
     },
     "execution_count": 8,
     "metadata": {},
     "output_type": "execute_result"
    }
   ],
   "source": [
    "d_meta_DataPipe = pd.DataFrame(store_meta_lst,\n",
    "                               columns= [\"path_original_img\", \n",
    "                                         \"img_ID\",\n",
    "                                         f\"path_img_{pipeID}\",\n",
    "                                         \"img_shape_original\",\n",
    "                                         f\"img_shape_{pipeID}\",\n",
    "                                         \"img_n_order\",\n",
    "                                         \"cls_name\",\n",
    "                                         \"cls_id\"]\n",
    "                              )\n",
    "d_meta_DataPipe.info()\n",
    "d_meta_DataPipe.head()"
   ]
  },
  {
   "cell_type": "code",
   "execution_count": 10,
   "id": "7517a650-760b-4db6-83c7-a31e8b134e5b",
   "metadata": {},
   "outputs": [
    {
     "name": "stdout",
     "output_type": "stream",
     "text": [
      "Storing metadata of pipe001 here: \n",
      "../../../data/pipe001/FR_t01e01nb02v1_metadata_pipe001.csv\n"
     ]
    }
   ],
   "source": [
    "# SAVE METADATA OF PIPELINE TRANSFORMATION\n",
    "fname = f\"{cfg.THIS_NOTEBOOK_REF}_metadata_{pipeID}.csv\"\n",
    "path_DATAPIPE_d_meta = os.path.join(path2save_pipeID, fname)\n",
    "print(f\"Storing metadata of {pipeID} here: \\n{path_DATAPIPE_d_meta}\")\n",
    "d_meta_DataPipe.to_csv(path_DATAPIPE_d_meta, index=False) "
   ]
  },
  {
   "cell_type": "code",
   "execution_count": null,
   "id": "19ac8714-de30-4b77-a293-df867cbbe2c9",
   "metadata": {},
   "outputs": [],
   "source": []
  },
  {
   "cell_type": "code",
   "execution_count": null,
   "id": "1f8807fd-942a-410d-aa66-8e176ae72773",
   "metadata": {},
   "outputs": [],
   "source": []
  }
 ],
 "metadata": {
  "kernelspec": {
   "display_name": "Python 3 (ipykernel)",
   "language": "python",
   "name": "python3"
  },
  "language_info": {
   "codemirror_mode": {
    "name": "ipython",
    "version": 3
   },
   "file_extension": ".py",
   "mimetype": "text/x-python",
   "name": "python",
   "nbconvert_exporter": "python",
   "pygments_lexer": "ipython3",
   "version": "3.10.12"
  }
 },
 "nbformat": 4,
 "nbformat_minor": 5
}
