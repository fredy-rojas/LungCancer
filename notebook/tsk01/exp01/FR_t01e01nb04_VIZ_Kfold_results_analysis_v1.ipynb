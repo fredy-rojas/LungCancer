{
 "cells": [
  {
   "cell_type": "code",
   "execution_count": null,
   "id": "698aa87b-27da-485e-84c8-c434768251dc",
   "metadata": {},
   "outputs": [],
   "source": []
  },
  {
   "cell_type": "code",
   "execution_count": null,
   "id": "de053daa-0a3f-4e93-96ab-e1279a220982",
   "metadata": {},
   "outputs": [],
   "source": []
  },
  {
   "cell_type": "code",
   "execution_count": null,
   "id": "cdd14f71-5650-432a-a83b-17405079636a",
   "metadata": {},
   "outputs": [],
   "source": []
  },
  {
   "cell_type": "code",
   "execution_count": null,
   "id": "ceb1b31b-fd39-4ccf-a295-165bdb41d435",
   "metadata": {},
   "outputs": [],
   "source": []
  },
  {
   "cell_type": "markdown",
   "id": "df20b4e6-1d2e-4a46-9cd0-3337e9b450b3",
   "metadata": {},
   "source": [
    "## Import libraries"
   ]
  },
  {
   "cell_type": "code",
   "execution_count": 1,
   "id": "de99a210-2bf5-4129-a802-80e02dcd64c9",
   "metadata": {},
   "outputs": [],
   "source": [
    "import os\n",
    "import glob\n",
    "import pickle\n",
    "from pathlib import Path, PureWindowsPath\n",
    "\n",
    "import numpy as np\n",
    "import pandas as pd \n",
    "\n",
    "import matplotlib.pyplot as plt \n",
    "import seaborn as sns "
   ]
  },
  {
   "cell_type": "code",
   "execution_count": null,
   "id": "d6e2cae0-33ee-4870-80cb-b17bf9f9d23c",
   "metadata": {},
   "outputs": [],
   "source": []
  },
  {
   "cell_type": "markdown",
   "id": "bd4063c6-3252-4a8f-86e3-7c84ba4ff3c6",
   "metadata": {},
   "source": [
    "## Config"
   ]
  },
  {
   "cell_type": "code",
   "execution_count": 3,
   "id": "a7ce305d-f713-4c1e-a202-f7eb0c45fdea",
   "metadata": {},
   "outputs": [],
   "source": [
    "class cfg:\n",
    "\n",
    "    THIS_NOTEBOOK_ID: \"FR_t01e01nb04v1\"\n",
    "\n",
    "    #=================================================\n",
    "    ROOT_TRAINING_RSLTS = os.path.join('..', '..', '..',\n",
    "                                       \"results\",\n",
    "                                       \"exp_track\",\n",
    "                                      )"
   ]
  },
  {
   "cell_type": "code",
   "execution_count": null,
   "id": "4d0b490c-19fe-40a7-a3fe-c1c18c2ab1e8",
   "metadata": {},
   "outputs": [],
   "source": []
  },
  {
   "cell_type": "markdown",
   "id": "e03d6c6d-03ea-4b06-b2ea-d422d18628ef",
   "metadata": {},
   "source": [
    "## Utility functions"
   ]
  },
  {
   "cell_type": "markdown",
   "id": "ab4ef8d2-20c1-4672-83b9-e811f7ad8a9c",
   "metadata": {},
   "source": [
    "### flatten_dict()"
   ]
  },
  {
   "cell_type": "code",
   "execution_count": 4,
   "id": "b034df64-48f8-43f8-a535-0a14de42b6f5",
   "metadata": {},
   "outputs": [],
   "source": [
    "def flatten_dict(d, parent_key='', sep='_'):\n",
    "    \"\"\"\n",
    "    Description\n",
    "    -----------\n",
    "        Recursive, inspect inner dict and extract values\n",
    "\n",
    "    Return: \n",
    "    ------\n",
    "        flat_dictionary: It can be use as one row of a dataframe.\n",
    "    \"\"\"\n",
    "    \n",
    "    items = []\n",
    "    for k, v in d.items():\n",
    "        new_key = f\"{parent_key}{sep}{k}\" if parent_key else k\n",
    "\n",
    "        if isinstance(v, dict):\n",
    "            items.extend(flatten_dict(v, new_key, sep=sep).items())\n",
    "        else:\n",
    "            items.append((new_key, v))\n",
    "\n",
    "    return dict(items)"
   ]
  },
  {
   "cell_type": "code",
   "execution_count": null,
   "id": "0b4346d9-7bad-4ac5-b1f3-ddbdeee730ef",
   "metadata": {},
   "outputs": [],
   "source": []
  },
  {
   "cell_type": "markdown",
   "id": "03677769-fac7-422e-921d-94ac88a2b112",
   "metadata": {},
   "source": [
    "## Extract performance during training epochs"
   ]
  },
  {
   "cell_type": "code",
   "execution_count": 5,
   "id": "e6b63540-f2b9-4891-8196-95c75a0cf946",
   "metadata": {},
   "outputs": [
    {
     "data": {
      "text/html": [
       "<div>\n",
       "<style scoped>\n",
       "    .dataframe tbody tr th:only-of-type {\n",
       "        vertical-align: middle;\n",
       "    }\n",
       "\n",
       "    .dataframe tbody tr th {\n",
       "        vertical-align: top;\n",
       "    }\n",
       "\n",
       "    .dataframe thead th {\n",
       "        text-align: right;\n",
       "    }\n",
       "</style>\n",
       "<table border=\"1\" class=\"dataframe\">\n",
       "  <thead>\n",
       "    <tr style=\"text-align: right;\">\n",
       "      <th></th>\n",
       "      <th>track_train_id</th>\n",
       "      <th>fold_id</th>\n",
       "      <th>arch_id</th>\n",
       "      <th>path_perf_dct</th>\n",
       "    </tr>\n",
       "  </thead>\n",
       "  <tbody>\n",
       "    <tr>\n",
       "      <th>0</th>\n",
       "      <td>TrainTrack_001</td>\n",
       "      <td>seed0_fold0</td>\n",
       "      <td>vanilla2DCNN_v1</td>\n",
       "      <td>../../../results/exp_track/TrainTrack_001/perf...</td>\n",
       "    </tr>\n",
       "    <tr>\n",
       "      <th>1</th>\n",
       "      <td>TrainTrack_002</td>\n",
       "      <td>seed0_fold0</td>\n",
       "      <td>vanilla2DCNN_v1</td>\n",
       "      <td>../../../results/exp_track/TrainTrack_002/perf...</td>\n",
       "    </tr>\n",
       "  </tbody>\n",
       "</table>\n",
       "</div>"
      ],
      "text/plain": [
       "   track_train_id      fold_id          arch_id  \\\n",
       "0  TrainTrack_001  seed0_fold0  vanilla2DCNN_v1   \n",
       "1  TrainTrack_002  seed0_fold0  vanilla2DCNN_v1   \n",
       "\n",
       "                                       path_perf_dct  \n",
       "0  ../../../results/exp_track/TrainTrack_001/perf...  \n",
       "1  ../../../results/exp_track/TrainTrack_002/perf...  "
      ]
     },
     "execution_count": 5,
     "metadata": {},
     "output_type": "execute_result"
    }
   ],
   "source": [
    "#=====================================================================\n",
    "# READ DATA\n",
    "ROOT_DATA = cfg.ROOT_TRAINING_RSLTS\n",
    "\n",
    "model_epo_perf = glob.glob(os.path.join(ROOT_DATA, '*', 'perform_acrss_epo', \"*\", \"performance_across_Epochs.pkl\"))\n",
    "model_epo_perf\n",
    "\n",
    "#=====================================================================\n",
    "# LOOP across each perforamnce directory\n",
    "perf_meta = []\n",
    "for p in model_epo_perf: \n",
    "\n",
    "    #_____________\n",
    "    # Read file\n",
    "    with open(p, 'rb') as f:\n",
    "        perf_dct = pickle.load(f)\n",
    "\n",
    "    #_____________\n",
    "    # Extract keys\n",
    "    trnTrackID = perf_dct['track_train_id']\n",
    "    foldID = perf_dct['fold_id'] # nomenclature: f\"seed{random_state in Kfold fun}_fold(n of data splits)\n",
    "    archID = perf_dct['arch_id']\n",
    "\n",
    "    perf_meta.append([trnTrackID, \n",
    "                      foldID, \n",
    "                      archID, \n",
    "                      p, \n",
    "                     ])\n",
    "\n",
    "    #_________________________________________________\n",
    "    # break\n",
    "#=====================================================================\n",
    "# Create metadatabase for perforamnces during training epochs during training.\n",
    "cols = ['track_train_id', 'fold_id', 'arch_id', 'path_perf_dct']\n",
    "d_prf_meta = pd.DataFrame(perf_meta, columns=cols)\n",
    "d_prf_meta.head()"
   ]
  },
  {
   "cell_type": "markdown",
   "id": "7d0f848b-1ee4-41aa-b48a-5bbd6de7b49c",
   "metadata": {},
   "source": [
    "## Extract Params for the whole ML pipeline"
   ]
  },
  {
   "cell_type": "code",
   "execution_count": 6,
   "id": "84fc956b-57a0-4711-ab89-bda8cd413930",
   "metadata": {},
   "outputs": [
    {
     "name": "stdout",
     "output_type": "stream",
     "text": [
      "<class 'pandas.core.frame.DataFrame'>\n",
      "RangeIndex: 2 entries, 0 to 1\n",
      "Data columns (total 23 columns):\n",
      " #   Column                             Non-Null Count  Dtype  \n",
      "---  ------                             --------------  -----  \n",
      " 0   prepro_pipe__pipe_name             2 non-null      object \n",
      " 1   prepro_pipe__source_code           2 non-null      object \n",
      " 2   architecture__arch_ID              2 non-null      object \n",
      " 3   architecture__params__in_channels  2 non-null      int64  \n",
      " 4   architecture__params__num_classes  2 non-null      int64  \n",
      " 5   architecture__source_code          2 non-null      object \n",
      " 6   split_strategy__cv                 2 non-null      object \n",
      " 7   split_strategy__n_split            2 non-null      int64  \n",
      " 8   split_strategy__cls_col            2 non-null      object \n",
      " 9   split_strategy__inst_n_order_col   2 non-null      object \n",
      " 10  split_strategy__shuffle_instances  2 non-null      bool   \n",
      " 11  split_strategy__seed               2 non-null      int64  \n",
      " 12  split_strategy__comment            2 non-null      object \n",
      " 13  training_step__TrackID             2 non-null      object \n",
      " 14  training_step__source_code         2 non-null      object \n",
      " 15  training_step__batch_size          2 non-null      int64  \n",
      " 16  training_step__epochs              2 non-null      int64  \n",
      " 17  training_step__lr                  2 non-null      float64\n",
      " 18  training_step__loss_fn             2 non-null      object \n",
      " 19  training_step__balance_strategy    2 non-null      object \n",
      " 20  training_step__optimizer           2 non-null      object \n",
      " 21  training_step__verbose_epo_steps   2 non-null      int64  \n",
      " 22  general_comments                   2 non-null      object \n",
      "dtypes: bool(1), float64(1), int64(7), object(14)\n",
      "memory usage: 482.0+ bytes\n"
     ]
    }
   ],
   "source": [
    "ROOT_DATA = cfg.ROOT_TRAINING_RSLTS\n",
    "\n",
    "ml_pipe_params_paths = glob.glob(os.path.join(ROOT_DATA, '*', 'ML_pipe_params', \"ML_pipe_all_params_*.pkl\"))\n",
    "ml_pipe_params_paths\n",
    "\n",
    "#=========================================================================\n",
    "# LOOP across each perforamnce directory\n",
    "ml_parms_meta = []\n",
    "for p in ml_pipe_params_paths:\n",
    "\n",
    "    #________________________\n",
    "    # Read file \n",
    "    with open(p, 'rb') as f:\n",
    "        ml_pipe_parms_dct = pickle.load(f)\n",
    "    #________________________\n",
    "    # Flat dictionary\n",
    "    flat_dct = flatten_dict(ml_pipe_parms_dct, parent_key='', sep='__')\n",
    "\n",
    "    \n",
    "    #________________________\n",
    "    # Store\n",
    "    ml_parms_meta.append(flat_dct)\n",
    "\n",
    "    #________________________\n",
    "    # break\n",
    "#----------------------------\n",
    "# if a dictionary key is missing in some Training Track IDs, due to diff architecture, training, etc\n",
    "#  -- it needs to be added with Nan values. <<--- Pending\n",
    "d_ml_pipe_params = pd.DataFrame(ml_parms_meta)\n",
    "d_ml_pipe_params.info()"
   ]
  },
  {
   "cell_type": "code",
   "execution_count": null,
   "id": "91558f6d-dd44-4096-927c-292270a0d3e1",
   "metadata": {},
   "outputs": [],
   "source": []
  },
  {
   "cell_type": "markdown",
   "id": "16d7f460-f797-4f9d-9d20-3b6c572049cf",
   "metadata": {},
   "source": [
    "## Extract prediction of final training epoch"
   ]
  },
  {
   "cell_type": "code",
   "execution_count": 8,
   "id": "00dd87eb-112f-4f5c-9861-97c229732c4b",
   "metadata": {},
   "outputs": [
    {
     "data": {
      "text/plain": [
       "['../../../results/exp_track/TrainTrack_001/predictions/seed0_fold0/test_result.csv',\n",
       " '../../../results/exp_track/TrainTrack_002/predictions/seed0_fold0/test_result.csv']"
      ]
     },
     "execution_count": 8,
     "metadata": {},
     "output_type": "execute_result"
    }
   ],
   "source": [
    "split_rslts = \"test_result.csv\" # last training epoch of that training track\n",
    "\n",
    "ROOT_DATA = cfg.ROOT_TRAINING_RSLTS\n",
    "\n",
    "ypred_rslts_paths = glob.glob(os.path.join(ROOT_DATA, \"*\", \"predictions\", \"*\", split_rslts,))\n",
    "ypred_rslts_paths"
   ]
  },
  {
   "cell_type": "code",
   "execution_count": 9,
   "id": "3d666f3e-5726-4365-88d5-c930af44c7ac",
   "metadata": {},
   "outputs": [
    {
     "data": {
      "text/plain": [
       "y_true\n",
       "2    113\n",
       "0     84\n",
       "1     24\n",
       "Name: count, dtype: int64"
      ]
     },
     "execution_count": 9,
     "metadata": {},
     "output_type": "execute_result"
    }
   ],
   "source": [
    "tst_rslts = pd.read_csv(ypred_rslts_paths[0])\n",
    "tst_rslts[\"y_true\"].value_counts()"
   ]
  },
  {
   "cell_type": "code",
   "execution_count": 10,
   "id": "67a15566-fe43-438d-ae4e-aba45b351a65",
   "metadata": {},
   "outputs": [
    {
     "data": {
      "text/plain": [
       "(221,)"
      ]
     },
     "execution_count": 10,
     "metadata": {},
     "output_type": "execute_result"
    }
   ],
   "source": [
    "tst_rslts[\"y_true\"].shape"
   ]
  },
  {
   "cell_type": "code",
   "execution_count": 11,
   "id": "a613d09c-2a2e-4947-b123-2755539e15b3",
   "metadata": {},
   "outputs": [
    {
     "data": {
      "text/plain": [
       "y_true\n",
       "2    0.511312\n",
       "0    0.380090\n",
       "1    0.108597\n",
       "Name: proportion, dtype: float64"
      ]
     },
     "execution_count": 11,
     "metadata": {},
     "output_type": "execute_result"
    }
   ],
   "source": [
    "class_counts = tst_rslts[\"y_true\"].value_counts(normalize=True)  # gives class proportions\n",
    "class_counts"
   ]
  },
  {
   "cell_type": "code",
   "execution_count": 12,
   "id": "9a6b4482-68f9-4cc6-8ea7-1f456168e7fc",
   "metadata": {},
   "outputs": [
    {
     "data": {
      "text/plain": [
       "0.4177023402469236"
      ]
     },
     "execution_count": 12,
     "metadata": {},
     "output_type": "execute_result"
    }
   ],
   "source": [
    "class_counts = tst_rslts[\"y_true\"].value_counts(normalize=True)  # gives class proportions\n",
    "expected_random_accuracy = (class_counts ** 2).sum()\n",
    "expected_random_accuracy"
   ]
  },
  {
   "cell_type": "code",
   "execution_count": null,
   "id": "8d84d9c7-9d54-46c2-a5c3-2ba3e5e8e76d",
   "metadata": {},
   "outputs": [],
   "source": []
  },
  {
   "cell_type": "markdown",
   "id": "1d7c0cac-0426-433c-8856-ba452f30d046",
   "metadata": {},
   "source": [
    "## VIZ Performances comparison"
   ]
  },
  {
   "cell_type": "code",
   "execution_count": 13,
   "id": "93cabfeb-5649-4112-bde4-ce0b4545a555",
   "metadata": {},
   "outputs": [
    {
     "name": "stdout",
     "output_type": "stream",
     "text": [
      "<class 'pandas.core.frame.DataFrame'>\n",
      "RangeIndex: 2 entries, 0 to 1\n",
      "Data columns (total 27 columns):\n",
      " #   Column                             Non-Null Count  Dtype  \n",
      "---  ------                             --------------  -----  \n",
      " 0   track_train_id                     2 non-null      object \n",
      " 1   fold_id                            2 non-null      object \n",
      " 2   arch_id                            2 non-null      object \n",
      " 3   path_perf_dct                      2 non-null      object \n",
      " 4   prepro_pipe__pipe_name             2 non-null      object \n",
      " 5   prepro_pipe__source_code           2 non-null      object \n",
      " 6   architecture__arch_ID              2 non-null      object \n",
      " 7   architecture__params__in_channels  2 non-null      int64  \n",
      " 8   architecture__params__num_classes  2 non-null      int64  \n",
      " 9   architecture__source_code          2 non-null      object \n",
      " 10  split_strategy__cv                 2 non-null      object \n",
      " 11  split_strategy__n_split            2 non-null      int64  \n",
      " 12  split_strategy__cls_col            2 non-null      object \n",
      " 13  split_strategy__inst_n_order_col   2 non-null      object \n",
      " 14  split_strategy__shuffle_instances  2 non-null      bool   \n",
      " 15  split_strategy__seed               2 non-null      int64  \n",
      " 16  split_strategy__comment            2 non-null      object \n",
      " 17  training_step__TrackID             2 non-null      object \n",
      " 18  training_step__source_code         2 non-null      object \n",
      " 19  training_step__batch_size          2 non-null      int64  \n",
      " 20  training_step__epochs              2 non-null      int64  \n",
      " 21  training_step__lr                  2 non-null      float64\n",
      " 22  training_step__loss_fn             2 non-null      object \n",
      " 23  training_step__balance_strategy    2 non-null      object \n",
      " 24  training_step__optimizer           2 non-null      object \n",
      " 25  training_step__verbose_epo_steps   2 non-null      int64  \n",
      " 26  general_comments                   2 non-null      object \n",
      "dtypes: bool(1), float64(1), int64(7), object(18)\n",
      "memory usage: 546.0+ bytes\n"
     ]
    }
   ],
   "source": [
    "d_meta = d_prf_meta.merge(d_ml_pipe_params,\n",
    "                          how=\"left\",\n",
    "                          left_on=\"track_train_id\",\n",
    "                          right_on=\"training_step__TrackID\")\n",
    "d_meta.info()"
   ]
  },
  {
   "cell_type": "code",
   "execution_count": 14,
   "id": "11ad5635-22b8-47cb-8a8b-558c0a8364ff",
   "metadata": {},
   "outputs": [
    {
     "data": {
      "text/html": [
       "<div>\n",
       "<style scoped>\n",
       "    .dataframe tbody tr th:only-of-type {\n",
       "        vertical-align: middle;\n",
       "    }\n",
       "\n",
       "    .dataframe tbody tr th {\n",
       "        vertical-align: top;\n",
       "    }\n",
       "\n",
       "    .dataframe thead th {\n",
       "        text-align: right;\n",
       "    }\n",
       "</style>\n",
       "<table border=\"1\" class=\"dataframe\">\n",
       "  <thead>\n",
       "    <tr style=\"text-align: right;\">\n",
       "      <th></th>\n",
       "      <th>track_train_id</th>\n",
       "      <th>metric_vals</th>\n",
       "      <th>leak</th>\n",
       "    </tr>\n",
       "  </thead>\n",
       "  <tbody>\n",
       "    <tr>\n",
       "      <th>0</th>\n",
       "      <td>TrainTrack_001</td>\n",
       "      <td>[0.7149321266968326, 0.9140271493212669, 0.977...</td>\n",
       "      <td>True</td>\n",
       "    </tr>\n",
       "    <tr>\n",
       "      <th>1</th>\n",
       "      <td>TrainTrack_002</td>\n",
       "      <td>[0.3891402714932127, 0.5520361990950227, 0.493...</td>\n",
       "      <td>False</td>\n",
       "    </tr>\n",
       "  </tbody>\n",
       "</table>\n",
       "</div>"
      ],
      "text/plain": [
       "   track_train_id                                        metric_vals   leak\n",
       "0  TrainTrack_001  [0.7149321266968326, 0.9140271493212669, 0.977...   True\n",
       "1  TrainTrack_002  [0.3891402714932127, 0.5520361990950227, 0.493...  False"
      ]
     },
     "execution_count": 14,
     "metadata": {},
     "output_type": "execute_result"
    }
   ],
   "source": [
    "metric = 'acc_tst'\n",
    "#==================================\n",
    "metric_perf = []\n",
    "for r, data in d_meta.iterrows():\n",
    "    \n",
    "    #---------------------------------------\n",
    "    # Load performance during training epochs.\n",
    "    performance_during_training_path = Path(PureWindowsPath(data[\"path_perf_dct\"]))\n",
    "    with open(performance_during_training_path, 'rb') as f:\n",
    "        perf_dct = pickle.load(f)\n",
    "        \"\"\"\n",
    "        Keys: \n",
    "            ['prcsn_trn', 'f1score_trn', 'rec_trn', 'ba_trn', 'acc_trn', 'loss_trn', \n",
    "             'prcsn_tst', 'f1score_tst', 'rec_tst', 'ba_tst', 'acc_tst', 'loss_tst', \n",
    "             'lr', 'track_train_id', 'fold_id', 'arch_id']\n",
    "\n",
    "        \"\"\"\n",
    "\n",
    "    #---------------------------------------\n",
    "    # Extracting metric performance selected during training epochs. \n",
    "    metric_perf.append((data[\"track_train_id\"], \n",
    "                        perf_dct[metric],\n",
    "                        data[\"split_strategy__shuffle_instances\"]\n",
    "                       ),\n",
    "                       )\n",
    "\n",
    "    #________________________________________________\n",
    "    # break\n",
    "#---------------------------------------------------\n",
    "cols = [\"track_train_id\", \"metric_vals\", \"leak\"]\n",
    "d_metric_perf = pd.DataFrame(metric_perf, columns=cols)\n",
    "d_metric_perf"
   ]
  },
  {
   "cell_type": "code",
   "execution_count": 15,
   "id": "42608660-f5b5-4c97-b199-27f31677a007",
   "metadata": {},
   "outputs": [
    {
     "data": {
      "image/png": "[encoded data removed]",
      "text/plain": [
       "<Figure size 1600x800 with 1 Axes>"
      ]
     },
     "metadata": {},
     "output_type": "display_data"
    }
   ],
   "source": [
    "from matplotlib.lines import Line2D\n",
    "custom_legend_handles1, custom_legend_handles2 = [], []\n",
    "plt.figure(figsize=(16,8))\n",
    "for r, data in d_metric_perf.sort_values(by=[\"leak\"]).iterrows():\n",
    "\n",
    "    #_______________________________________________________\n",
    "    # Creating series label \n",
    "    leakage_exp = data[\"leak\"]\n",
    "    track = data[\"track_train_id\"]\n",
    "    \n",
    "    leak = \"Yes\" if leakage_exp else \"No \"\n",
    "    track = track.split(\"_\")[1]\n",
    "    serie_label_name = f\"leak: {leak} | TrackID: {track}\"\n",
    "\n",
    "    #_______________________________________________________\n",
    "    serie_values = data[\"metric_vals\"]\n",
    "\n",
    "    #_______________________________________________________\n",
    "    color_line = \"#6C7A89\" if leakage_exp else \"#D5D8DC\"\n",
    "    plt.plot(serie_values, label=serie_label_name, color=color_line, zorder=3)\n",
    "\n",
    "    # last epoch performace\n",
    "    sc = plt.scatter(len(serie_values) - 1, serie_values[-1], zorder=3)\n",
    "    #----------------------------\n",
    "\n",
    "    legend_label = (\n",
    "        f'{serie_label_name}: '\n",
    "        f'$\\u2015$'  # Unicode for horizontal line\n",
    "        f' (line)  '\n",
    "        f'$\\u25CF$'  # Unicode for filled circle with this color : sc.get_facecolor()[0]\n",
    "        f' (marker)' \n",
    "    )\n",
    "    custom_legend_handles1.append(Line2D(\n",
    "        [0], [0],\n",
    "        color=color_line,\n",
    "        # marker='o',\n",
    "        # markerfacecolor=sc.get_facecolor()[0],\n",
    "        # label=f'{serie_label_name}: line + marker'\n",
    "        label=legend_label,\n",
    "    ))\n",
    "    # custom_legend_handles2.append(Line2D(\n",
    "    #     [0], [0],\n",
    "    #     # color=color_line,\n",
    "    #     marker='o',\n",
    "    #     # markerfacecolor=sc.get_facecolor()[0],\n",
    "    #     # label=f'{serie_label_name}: line + marker'\n",
    "    #     label=legend_label,\n",
    "    # ))\n",
    "\n",
    "\n",
    "\n",
    "\n",
    "    #_______________________________________________________\n",
    "    # break\n",
    "#-----------------------------------------------------------\n",
    "plt.axhline(expected_random_accuracy, color='firebrick', linestyle='--', linewidth=1, \n",
    "            # label='Random Baseline', \n",
    "           )\n",
    "# Annotate the line\n",
    "plt.text(\n",
    "    x=7.5, \n",
    "    y=expected_random_accuracy - 0.03, \n",
    "    s=f'Random Baseline ≈ {expected_random_accuracy:.2f}',\n",
    "    color='firebrick',\n",
    "    fontsize=10,\n",
    "    fontweight='bold'\n",
    ")\n",
    "\n",
    "plt.title(\"Accuracy for Test set \")\n",
    "# plt.legend(handles=[(custom_legend_handles1, custom_legend_handles2)])\n",
    "# plt.legend(handles=custom_legend_handles1)\n",
    "leg = plt.legend()\n",
    "plt.grid(color='lightgray', linestyle=\"--\", zorder=0 )\n",
    "plt.yticks(np.arange(0, 1.1, 0.1)) \n",
    "plt.ylim(0,1.05)\n",
    "plt.show()"
   ]
  },
  {
   "cell_type": "code",
   "execution_count": null,
   "id": "7f2ae25e-1d31-403f-a969-4b440081e541",
   "metadata": {
    "scrolled": true
   },
   "outputs": [],
   "source": []
  },
  {
   "cell_type": "code",
   "execution_count": null,
   "id": "a684a098-3979-4c81-9213-954c901e6d51",
   "metadata": {},
   "outputs": [],
   "source": []
  },
  {
   "cell_type": "code",
   "execution_count": null,
   "id": "e9251591-39db-49e4-957e-218be7fb3cfe",
   "metadata": {},
   "outputs": [],
   "source": []
  },
  {
   "cell_type": "code",
   "execution_count": 17,
   "id": "b581964a-b22e-4328-a55c-afef389f23fd",
   "metadata": {},
   "outputs": [
    {
     "name": "stdout",
     "output_type": "stream",
     "text": [
      "['_PROPERTIES_EXCLUDED_FROM_SET', '__class__', '__delattr__', '__dict__', '__dir__', '__doc__', '__eq__', '__format__', '__ge__', '__getattribute__', '__getstate__', '__gt__', '__hash__', '__init__', '__init_subclass__', '__le__', '__lt__', '__module__', '__ne__', '__new__', '__reduce__', '__reduce_ex__', '__repr__', '__setattr__', '__sizeof__', '__str__', '__subclasshook__', '__weakref__', '_agg_filter', '_alignment', '_alpha', '_animated', '_auto_legend_data', '_axes', '_bbox_to_anchor', '_callbacks', '_clipon', '_clippath', '_cm_set', '_custom_handler_map', '_default_handler_map', '_different_canvas', '_draggable', '_find_best_position', '_findoffset', '_fontsize', '_fully_clipped_to_axes', '_get_anchored_bbox', '_get_loc', '_gid', '_in_layout', '_init_legend_box', '_internal_update', '_label', '_legend_box', '_legend_handle_box', '_legend_title_box', '_loc', '_loc_real', '_loc_used_default', '_mode', '_mouseover', '_ncols', '_outside_loc', '_parent_figure', '_path_effects', '_picker', '_rasterized', '_remove_method', '_scatteryoffsets', '_set_alpha_for_array', '_set_artist_props', '_set_gc_clip', '_set_loc', '_shadow_props', '_sketch', '_snap', '_stale', '_sticky_edges', '_transform', '_transformSet', '_update_props', '_update_set_signature_and_docstring', '_url', '_visible', 'add_callback', 'axes', 'borderaxespad', 'borderpad', 'clipbox', 'codes', 'columnspacing', 'contains', 'convert_xunits', 'convert_yunits', 'draw', 'draw_frame', 'figure', 'findobj', 'format_cursor_data', 'get_agg_filter', 'get_alignment', 'get_alpha', 'get_animated', 'get_bbox_to_anchor', 'get_children', 'get_clip_box', 'get_clip_on', 'get_clip_path', 'get_cursor_data', 'get_default_handler_map', 'get_draggable', 'get_figure', 'get_frame', 'get_frame_on', 'get_gid', 'get_in_layout', 'get_label', 'get_legend_handler', 'get_legend_handler_map', 'get_lines', 'get_mouseover', 'get_patches', 'get_path_effects', 'get_picker', 'get_rasterized', 'get_sketch_params', 'get_snap', 'get_texts', 'get_tightbbox', 'get_title', 'get_transform', 'get_transformed_clip_path_and_affine', 'get_url', 'get_visible', 'get_window_extent', 'get_zorder', 'handleheight', 'handlelength', 'handletextpad', 'have_units', 'is_transform_set', 'isaxes', 'labelspacing', 'legendPatch', 'legend_handles', 'markerscale', 'mouseover', 'numpoints', 'parent', 'pchanged', 'pick', 'pickable', 'prop', 'properties', 'remove', 'remove_callback', 'scatterpoints', 'set', 'set_agg_filter', 'set_alignment', 'set_alpha', 'set_animated', 'set_bbox_to_anchor', 'set_clip_box', 'set_clip_on', 'set_clip_path', 'set_default_handler_map', 'set_draggable', 'set_figure', 'set_frame_on', 'set_gid', 'set_in_layout', 'set_label', 'set_loc', 'set_mouseover', 'set_ncols', 'set_path_effects', 'set_picker', 'set_rasterized', 'set_sketch_params', 'set_snap', 'set_title', 'set_transform', 'set_url', 'set_visible', 'set_zorder', 'shadow', 'stale', 'stale_callback', 'sticky_edges', 'texts', 'update', 'update_default_handler_map', 'update_from', 'zorder']\n"
     ]
    }
   ],
   "source": [
    "print(dir(leg))"
   ]
  },
  {
   "cell_type": "code",
   "execution_count": null,
   "id": "61ad98f3-d808-4f86-bc64-637487d7f72e",
   "metadata": {},
   "outputs": [],
   "source": []
  },
  {
   "cell_type": "code",
   "execution_count": null,
   "id": "b90c167a-2b73-43f5-98f7-1d29efe0e181",
   "metadata": {},
   "outputs": [],
   "source": []
  },
  {
   "cell_type": "code",
   "execution_count": null,
   "id": "6c7c51ef-1ed9-4122-b168-b8df66ce39d6",
   "metadata": {},
   "outputs": [],
   "source": []
  },
  {
   "cell_type": "code",
   "execution_count": null,
   "id": "409ac709-7d99-4118-bc78-bc0cd89689c3",
   "metadata": {},
   "outputs": [],
   "source": []
  },
  {
   "cell_type": "code",
   "execution_count": null,
   "id": "81c46c7b-3142-4616-bef1-992ddf94e6aa",
   "metadata": {},
   "outputs": [],
   "source": []
  },
  {
   "cell_type": "code",
   "execution_count": null,
   "id": "298384f9-2051-449b-a106-af3bad36b189",
   "metadata": {},
   "outputs": [],
   "source": []
  },
  {
   "cell_type": "code",
   "execution_count": null,
   "id": "afe78c2e-de56-45bc-9530-26101303aa2c",
   "metadata": {},
   "outputs": [],
   "source": []
  },
  {
   "cell_type": "code",
   "execution_count": null,
   "id": "e0cc67da-53ce-46cf-b71c-e3812f94864d",
   "metadata": {},
   "outputs": [],
   "source": []
  },
  {
   "cell_type": "code",
   "execution_count": null,
   "id": "581230c0-c936-4862-97bc-6ae877ebefe7",
   "metadata": {},
   "outputs": [],
   "source": []
  },
  {
   "cell_type": "code",
   "execution_count": null,
   "id": "99d2875b-20d6-446c-b143-07fbb6ca1ae4",
   "metadata": {},
   "outputs": [],
   "source": []
  }
 ],
 "metadata": {
  "kernelspec": {
   "display_name": "Python 3 (ipykernel)",
   "language": "python",
   "name": "python3"
  },
  "language_info": {
   "codemirror_mode": {
    "name": "ipython",
    "version": 3
   },
   "file_extension": ".py",
   "mimetype": "text/x-python",
   "name": "python",
   "nbconvert_exporter": "python",
   "pygments_lexer": "ipython3",
   "version": "3.10.12"
  }
 },
 "nbformat": 4,
 "nbformat_minor": 5
}
